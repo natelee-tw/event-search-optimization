{
 "cells": [
  {
   "cell_type": "code",
   "execution_count": 1,
   "metadata": {},
   "outputs": [],
   "source": [
    "import pandas as pd\n",
    "import json\n",
    "import requests\n",
    "import time"
   ]
  },
  {
   "cell_type": "code",
   "execution_count": 2,
   "metadata": {},
   "outputs": [],
   "source": [
    "data = pd.read_csv(\"../data/activities.csv\")"
   ]
  },
  {
   "cell_type": "code",
   "execution_count": 17,
   "metadata": {},
   "outputs": [
    {
     "data": {
      "text/html": [
       "<div>\n",
       "<style scoped>\n",
       "    .dataframe tbody tr th:only-of-type {\n",
       "        vertical-align: middle;\n",
       "    }\n",
       "\n",
       "    .dataframe tbody tr th {\n",
       "        vertical-align: top;\n",
       "    }\n",
       "\n",
       "    .dataframe thead th {\n",
       "        text-align: right;\n",
       "    }\n",
       "</style>\n",
       "<table border=\"1\" class=\"dataframe\">\n",
       "  <thead>\n",
       "    <tr style=\"text-align: right;\">\n",
       "      <th></th>\n",
       "      <th>Event ID</th>\n",
       "      <th>Activity</th>\n",
       "      <th>Time</th>\n",
       "      <th>Location</th>\n",
       "      <th>lat</th>\n",
       "      <th>lon</th>\n",
       "    </tr>\n",
       "  </thead>\n",
       "  <tbody>\n",
       "    <tr>\n",
       "      <th>0</th>\n",
       "      <td>A1128</td>\n",
       "      <td>Yoga Stretch</td>\n",
       "      <td>8am morning</td>\n",
       "      <td>Bishan Park</td>\n",
       "      <td></td>\n",
       "      <td></td>\n",
       "    </tr>\n",
       "    <tr>\n",
       "      <th>1</th>\n",
       "      <td>A1129</td>\n",
       "      <td>Zumba Gold</td>\n",
       "      <td>9am</td>\n",
       "      <td>Tampines Mall</td>\n",
       "      <td></td>\n",
       "      <td></td>\n",
       "    </tr>\n",
       "    <tr>\n",
       "      <th>2</th>\n",
       "      <td>A1130</td>\n",
       "      <td>Pilates Core</td>\n",
       "      <td>6pm</td>\n",
       "      <td>Orchard Central</td>\n",
       "      <td></td>\n",
       "      <td></td>\n",
       "    </tr>\n",
       "    <tr>\n",
       "      <th>3</th>\n",
       "      <td>A1131</td>\n",
       "      <td>Tai Chi Basics</td>\n",
       "      <td>7am</td>\n",
       "      <td>West Coast Park</td>\n",
       "      <td></td>\n",
       "      <td></td>\n",
       "    </tr>\n",
       "    <tr>\n",
       "      <th>4</th>\n",
       "      <td>A1132</td>\n",
       "      <td>Aqua Aerobics</td>\n",
       "      <td>10am</td>\n",
       "      <td>Yishun Safra</td>\n",
       "      <td></td>\n",
       "      <td></td>\n",
       "    </tr>\n",
       "  </tbody>\n",
       "</table>\n",
       "</div>"
      ],
      "text/plain": [
       "  Event ID        Activity         Time         Location lat lon\n",
       "0    A1128    Yoga Stretch  8am morning      Bishan Park        \n",
       "1    A1129      Zumba Gold          9am    Tampines Mall        \n",
       "2    A1130    Pilates Core          6pm  Orchard Central        \n",
       "3    A1131  Tai Chi Basics          7am  West Coast Park        \n",
       "4    A1132   Aqua Aerobics         10am     Yishun Safra        "
      ]
     },
     "execution_count": 17,
     "metadata": {},
     "output_type": "execute_result"
    }
   ],
   "source": [
    "data[\"lat\"] = \"\"\n",
    "data[\"lon\"] = \"\"\n",
    "data.head()"
   ]
  },
  {
   "cell_type": "code",
   "execution_count": null,
   "metadata": {},
   "outputs": [],
   "source": [
    "for i, location in data.iterrows():\n",
    "    address = location[\"Location\"]\n",
    "    response = requests.get(f\"https://www.onemap.gov.sg/api/common/elastic/search?searchVal={address}&returnGeom=Y&getAddrDetails=Y&pageNum=1\")\n",
    "    response_json = json.loads(response.content)\n",
    "    data.loc[i, \"lat\"] = float(response_json[\"results\"][0][\"LATITUDE\"])\n",
    "    data.loc[i, \"lon\"] = float(response_json[\"results\"][0][\"LONGITUDE\"])\n",
    "    print(\"address: \", address)\n",
    "    print(\"lat: \", data.loc[i, \"lat\"])\n",
    "    print(\"lon: \", data.loc[i, \"lon\"])\n",
    "\n"
   ]
  },
  {
   "cell_type": "code",
   "execution_count": 41,
   "metadata": {},
   "outputs": [],
   "source": [
    "data.to_csv(\"activities_with_lat_lon.csv\", index=False)"
   ]
  },
  {
   "cell_type": "code",
   "execution_count": null,
   "metadata": {},
   "outputs": [],
   "source": []
  },
  {
   "cell_type": "code",
   "execution_count": null,
   "metadata": {},
   "outputs": [],
   "source": []
  }
 ],
 "metadata": {
  "kernelspec": {
   "display_name": "search-optimization",
   "language": "python",
   "name": "python3"
  },
  "language_info": {
   "codemirror_mode": {
    "name": "ipython",
    "version": 3
   },
   "file_extension": ".py",
   "mimetype": "text/x-python",
   "name": "python",
   "nbconvert_exporter": "python",
   "pygments_lexer": "ipython3",
   "version": "3.13.1"
  }
 },
 "nbformat": 4,
 "nbformat_minor": 2
}
