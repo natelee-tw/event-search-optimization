{
 "cells": [
  {
   "cell_type": "code",
   "execution_count": 5,
   "metadata": {},
   "outputs": [],
   "source": [
    "import os\n",
    "import pandas as pd\n",
    "from openai import OpenAI\n",
    "from sklearn.metrics.pairwise import cosine_similarity\n",
    "from dotenv import load_dotenv\n",
    "\n",
    "load_dotenv()\n",
    "\n",
    "client = OpenAI(api_key=os.getenv('API_KEY'))"
   ]
  },
  {
   "cell_type": "code",
   "execution_count": 6,
   "metadata": {},
   "outputs": [
    {
     "data": {
      "text/html": [
       "<div>\n",
       "<style scoped>\n",
       "    .dataframe tbody tr th:only-of-type {\n",
       "        vertical-align: middle;\n",
       "    }\n",
       "\n",
       "    .dataframe tbody tr th {\n",
       "        vertical-align: top;\n",
       "    }\n",
       "\n",
       "    .dataframe thead th {\n",
       "        text-align: right;\n",
       "    }\n",
       "</style>\n",
       "<table border=\"1\" class=\"dataframe\">\n",
       "  <thead>\n",
       "    <tr style=\"text-align: right;\">\n",
       "      <th></th>\n",
       "      <th>Event ID</th>\n",
       "      <th>Activity</th>\n",
       "      <th>Time</th>\n",
       "      <th>Location</th>\n",
       "      <th>text</th>\n",
       "      <th>ada_embedding</th>\n",
       "    </tr>\n",
       "  </thead>\n",
       "  <tbody>\n",
       "    <tr>\n",
       "      <th>5</th>\n",
       "      <td>A1133</td>\n",
       "      <td>Barre Fusion</td>\n",
       "      <td>11am</td>\n",
       "      <td>Clementi SMC</td>\n",
       "      <td>A1133 Barre Fusion 11am Clementi SMC</td>\n",
       "      <td>[0.004206170327961445, 0.008384781889617443, -...</td>\n",
       "    </tr>\n",
       "    <tr>\n",
       "      <th>92</th>\n",
       "      <td>A1218</td>\n",
       "      <td>Groove Fit</td>\n",
       "      <td>9am</td>\n",
       "      <td>Changi Jewel</td>\n",
       "      <td>A1218 Groove Fit 9am Changi Jewel</td>\n",
       "      <td>[-0.013997677713632584, -0.005433264188468456,...</td>\n",
       "    </tr>\n",
       "    <tr>\n",
       "      <th>80</th>\n",
       "      <td>A1207</td>\n",
       "      <td>Guided Stretch</td>\n",
       "      <td>9am</td>\n",
       "      <td>Upper Thomson Park</td>\n",
       "      <td>A1207 Guided Stretch 9am Upper Thomson Park</td>\n",
       "      <td>[0.006176583468914032, 0.0073325554840266705, ...</td>\n",
       "    </tr>\n",
       "    <tr>\n",
       "      <th>8</th>\n",
       "      <td>A1136</td>\n",
       "      <td>Aerobics Basics</td>\n",
       "      <td>7pm</td>\n",
       "      <td>Punggol Waterway Point</td>\n",
       "      <td>A1136 Aerobics Basics 7pm Punggol Waterway Point</td>\n",
       "      <td>[0.01791921816766262, -0.025539882481098175, -...</td>\n",
       "    </tr>\n",
       "    <tr>\n",
       "      <th>40</th>\n",
       "      <td>A1168</td>\n",
       "      <td>Strength Endurance</td>\n",
       "      <td>6pm</td>\n",
       "      <td>Kallang Wave Mall</td>\n",
       "      <td>A1168 Strength Endurance 6pm Kallang Wave Mall</td>\n",
       "      <td>[-0.004835108295083046, -0.01457678060978651, ...</td>\n",
       "    </tr>\n",
       "  </tbody>\n",
       "</table>\n",
       "</div>"
      ],
      "text/plain": [
       "   Event ID            Activity  Time                Location  \\\n",
       "5     A1133        Barre Fusion  11am            Clementi SMC   \n",
       "92    A1218          Groove Fit   9am            Changi Jewel   \n",
       "80    A1207      Guided Stretch   9am      Upper Thomson Park   \n",
       "8     A1136     Aerobics Basics   7pm  Punggol Waterway Point   \n",
       "40    A1168  Strength Endurance   6pm       Kallang Wave Mall   \n",
       "\n",
       "                                                text  \\\n",
       "5               A1133 Barre Fusion 11am Clementi SMC   \n",
       "92                 A1218 Groove Fit 9am Changi Jewel   \n",
       "80       A1207 Guided Stretch 9am Upper Thomson Park   \n",
       "8   A1136 Aerobics Basics 7pm Punggol Waterway Point   \n",
       "40    A1168 Strength Endurance 6pm Kallang Wave Mall   \n",
       "\n",
       "                                        ada_embedding  \n",
       "5   [0.004206170327961445, 0.008384781889617443, -...  \n",
       "92  [-0.013997677713632584, -0.005433264188468456,...  \n",
       "80  [0.006176583468914032, 0.0073325554840266705, ...  \n",
       "8   [0.01791921816766262, -0.025539882481098175, -...  \n",
       "40  [-0.004835108295083046, -0.01457678060978651, ...  "
      ]
     },
     "execution_count": 6,
     "metadata": {},
     "output_type": "execute_result"
    }
   ],
   "source": [
    "# load pickle file\n",
    "embedding_df = pd.read_pickle(\"data/embedded_activities.pkl\")\n",
    "embedding_df.sample(5)"
   ]
  },
  {
   "cell_type": "code",
   "execution_count": 7,
   "metadata": {},
   "outputs": [],
   "source": [
    "\n",
    "def get_embedding(text, model=\"text-embedding-ada-002\"):\n",
    "    text = text.replace(\"\\n\", \" \")\n",
    "    return client.embeddings.create(input=[text], model=model).data[0].embedding\n",
    "\n",
    "def find_k_nearest_neighbors(df, query_embedding, k=5):\n",
    "    # Compute cosine similarity between query embedding and all embeddings in the DataFrame\n",
    "    similarities = cosine_similarity([query_embedding], list(df['ada_embedding'].values))[0]\n",
    "\n",
    "    # Find indices of the top K most similar embeddings\n",
    "    top_indices = similarities.argsort()[-k:][::-1]\n",
    "\n",
    "    # Extract the sentences corresponding to the top indices\n",
    "    k_nearest_neighbors = df.iloc[top_indices]['text'].tolist()\n",
    "\n",
    "    return k_nearest_neighbors\n",
    "\n",
    "def get_top_search(question, n=5):\n",
    "    print(\"Question:\", question)\n",
    "    question_embedding = get_embedding(question)\n",
    "\n",
    "    k_nearest_neighbors = find_k_nearest_neighbors(embedding_df, question_embedding, k=n)\n",
    "    print(\"K Nearest Neighbors:\")\n",
    "    for neighbor in k_nearest_neighbors:\n",
    "        print(neighbor)"
   ]
  },
  {
   "cell_type": "code",
   "execution_count": 8,
   "metadata": {},
   "outputs": [
    {
     "name": "stdout",
     "output_type": "stream",
     "text": [
      "Question: Zoooomba\n",
      "K Nearest Neighbors:\n",
      "A1177 Aqua Zumba 9am Jurong Lake Gardens\n",
      "A1208 Zumba Lite 7am Bishan Junction 8\n",
      "A1129 Zumba Gold 9am Tampines Mall\n",
      "A1223 Zen Stretch 7am MacPherson Park\n",
      "A3324 Jogging 8am Everton Park\n",
      "A1165 Groove Dance 9am VivoCity Sky Park\n",
      "A1178 Dance Fitness Jam 8am AMK Hub\n",
      "A1173 Brazilian Dance 5pm Eunos Community Centre\n",
      "A1201 Morning Jog 6am East Coast Park\n",
      "A1205 Jazzercise 5pm Buona Vista Park\n"
     ]
    }
   ],
   "source": [
    "question = \"Zoooomba\"\n",
    "\n",
    "get_top_search(question, n=10)"
   ]
  },
  {
   "cell_type": "code",
   "execution_count": 9,
   "metadata": {},
   "outputs": [
    {
     "name": "stdout",
     "output_type": "stream",
     "text": [
      "Question: Cardio\n",
      "K Nearest Neighbors:\n",
      "A1182 Light Cardio 10am Pioneer Mall\n",
      "A1227 Cardio Sculpt 7pm Bedok Central\n",
      "A1155 Cardio Barre 8am Mount Faber Park\n",
      "A1136 Full Body Cardio 7am Singapore General Hospital\n",
      "A1200 Cardio Blitz 9am Tampines ActiveSG Gym\n",
      "A1184 Core & Cardio 6pm Punggol Settlement\n",
      "A1164 Cardio Dance Party 8am Sentosa Beach Station\n",
      "A1135 Dance Cardio 8am Pasir Ris CC\n",
      "A1196 High Energy Aerobics 8am Hillion Mall\n",
      "A1205 Jazzercise 5pm Buona Vista Park\n"
     ]
    }
   ],
   "source": [
    "question = \"Cardio\"\n",
    "\n",
    "get_top_search(question, n=10)"
   ]
  },
  {
   "cell_type": "code",
   "execution_count": 10,
   "metadata": {},
   "outputs": [
    {
     "name": "stdout",
     "output_type": "stream",
     "text": [
      "Question: East Coast\n",
      "K Nearest Neighbors:\n",
      "A1201 Morning Jog 6am East Coast Park\n",
      "A1134 HIIT Bootcamp 6am East Coast Park\n",
      "A1131 Tai Chi Basics 7am West Coast Park\n",
      "A1176 Stretch & Align 7pm Eastpoint Mall\n",
      "A1158 CrossFit Lite 6am  Downtown East D’Resort\n"
     ]
    }
   ],
   "source": [
    "question = \"East Coast\"\n",
    "\n",
    "get_top_search(question, n=5)\n"
   ]
  },
  {
   "cell_type": "code",
   "execution_count": 11,
   "metadata": {},
   "outputs": [
    {
     "name": "stdout",
     "output_type": "stream",
     "text": [
      "Question: Cardio in Toa Payoh\n",
      "K Nearest Neighbors:\n",
      "A1200 Cardio Blitz 9am Tampines ActiveSG Gym\n",
      "A1227 Cardio Sculpt 7pm Bedok Central\n",
      "A1184 Core & Cardio 6pm Punggol Settlement\n",
      "A1143 Gentle Stretching 9am Toa Payoh Central\n",
      "A1150 Chair Aerobics 10am Bukit Timah Shopping Centre\n"
     ]
    }
   ],
   "source": [
    "question = \"Cardio in Toa Payoh\"\n",
    "\n",
    "get_top_search(question, n=5)"
   ]
  },
  {
   "cell_type": "code",
   "execution_count": 12,
   "metadata": {},
   "outputs": [
    {
     "name": "stdout",
     "output_type": "stream",
     "text": [
      "Question: A1128\n",
      "K Nearest Neighbors:\n",
      "A1133 Barre Fusion 11am Clementi SMC\n",
      "A1178 Dance Fitness Jam 8am AMK Hub\n",
      "A1162 Chair Yoga 11am Compass One\n",
      "A1182 Light Cardio 10am Pioneer Mall\n",
      "A1196 High Energy Aerobics 8am Hillion Mall\n"
     ]
    }
   ],
   "source": [
    "question = \"A1128\"\n",
    "\n",
    "get_top_search(question, n=5)"
   ]
  },
  {
   "cell_type": "code",
   "execution_count": null,
   "metadata": {},
   "outputs": [],
   "source": []
  }
 ],
 "metadata": {
  "kernelspec": {
   "display_name": "base",
   "language": "python",
   "name": "python3"
  },
  "language_info": {
   "codemirror_mode": {
    "name": "ipython",
    "version": 3
   },
   "file_extension": ".py",
   "mimetype": "text/x-python",
   "name": "python",
   "nbconvert_exporter": "python",
   "pygments_lexer": "ipython3",
   "version": "3.12.3"
  }
 },
 "nbformat": 4,
 "nbformat_minor": 2
}
