{
 "cells": [
  {
   "cell_type": "code",
   "execution_count": 2,
   "metadata": {},
   "outputs": [],
   "source": [
    "import os\n",
    "import pandas as pd\n",
    "from openai import OpenAI\n",
    "from sklearn.metrics.pairwise import cosine_similarity\n",
    "from dotenv import load_dotenv\n",
    "\n",
    "load_dotenv()\n",
    "\n",
    "client = OpenAI(api_key=os.getenv('API_KEY'))"
   ]
  },
  {
   "cell_type": "code",
   "execution_count": 3,
   "metadata": {},
   "outputs": [
    {
     "data": {
      "text/html": [
       "<div>\n",
       "<style scoped>\n",
       "    .dataframe tbody tr th:only-of-type {\n",
       "        vertical-align: middle;\n",
       "    }\n",
       "\n",
       "    .dataframe tbody tr th {\n",
       "        vertical-align: top;\n",
       "    }\n",
       "\n",
       "    .dataframe thead th {\n",
       "        text-align: right;\n",
       "    }\n",
       "</style>\n",
       "<table border=\"1\" class=\"dataframe\">\n",
       "  <thead>\n",
       "    <tr style=\"text-align: right;\">\n",
       "      <th></th>\n",
       "      <th>Event ID</th>\n",
       "      <th>Activity</th>\n",
       "      <th>Time</th>\n",
       "      <th>Location</th>\n",
       "      <th>text</th>\n",
       "      <th>ada_embedding</th>\n",
       "    </tr>\n",
       "  </thead>\n",
       "  <tbody>\n",
       "    <tr>\n",
       "      <th>80</th>\n",
       "      <td>A1207</td>\n",
       "      <td>Guided Stretch</td>\n",
       "      <td>9am</td>\n",
       "      <td>Upper Thomson Park</td>\n",
       "      <td>A1207 Guided Stretch 9am Upper Thomson Park</td>\n",
       "      <td>[0.006176583468914032, 0.0073325554840266705, ...</td>\n",
       "    </tr>\n",
       "    <tr>\n",
       "      <th>72</th>\n",
       "      <td>A1200</td>\n",
       "      <td>Cardio Blitz</td>\n",
       "      <td>9am</td>\n",
       "      <td>Tampines ActiveSG Gym</td>\n",
       "      <td>A1200 Cardio Blitz 9am Tampines ActiveSG Gym</td>\n",
       "      <td>[-0.029249368235468864, -0.011362254619598389,...</td>\n",
       "    </tr>\n",
       "    <tr>\n",
       "      <th>57</th>\n",
       "      <td>A1185</td>\n",
       "      <td>Group Functional Training</td>\n",
       "      <td>7pm</td>\n",
       "      <td>Yew Tee Point</td>\n",
       "      <td>A1185 Group Functional Training 7pm Yew Tee Point</td>\n",
       "      <td>[-0.010567406192421913, -0.01499401405453682, ...</td>\n",
       "    </tr>\n",
       "    <tr>\n",
       "      <th>66</th>\n",
       "      <td>A1194</td>\n",
       "      <td>Strong Nation</td>\n",
       "      <td>7pm</td>\n",
       "      <td>Tanjong Pagar Centre</td>\n",
       "      <td>A1194 Strong Nation 7pm Tanjong Pagar Centre</td>\n",
       "      <td>[0.008739463053643703, -0.022288653999567032, ...</td>\n",
       "    </tr>\n",
       "    <tr>\n",
       "      <th>18</th>\n",
       "      <td>A1146</td>\n",
       "      <td>Kickboxing Fitness</td>\n",
       "      <td>6pm</td>\n",
       "      <td>Jurong East MRT Plaza</td>\n",
       "      <td>A1146 Kickboxing Fitness 6pm Jurong East MRT P...</td>\n",
       "      <td>[0.004646248184144497, -0.015833109617233276, ...</td>\n",
       "    </tr>\n",
       "  </tbody>\n",
       "</table>\n",
       "</div>"
      ],
      "text/plain": [
       "   Event ID                   Activity Time               Location  \\\n",
       "80    A1207             Guided Stretch  9am     Upper Thomson Park   \n",
       "72    A1200               Cardio Blitz  9am  Tampines ActiveSG Gym   \n",
       "57    A1185  Group Functional Training  7pm          Yew Tee Point   \n",
       "66    A1194              Strong Nation  7pm   Tanjong Pagar Centre   \n",
       "18    A1146         Kickboxing Fitness  6pm  Jurong East MRT Plaza   \n",
       "\n",
       "                                                 text  \\\n",
       "80        A1207 Guided Stretch 9am Upper Thomson Park   \n",
       "72       A1200 Cardio Blitz 9am Tampines ActiveSG Gym   \n",
       "57  A1185 Group Functional Training 7pm Yew Tee Point   \n",
       "66       A1194 Strong Nation 7pm Tanjong Pagar Centre   \n",
       "18  A1146 Kickboxing Fitness 6pm Jurong East MRT P...   \n",
       "\n",
       "                                        ada_embedding  \n",
       "80  [0.006176583468914032, 0.0073325554840266705, ...  \n",
       "72  [-0.029249368235468864, -0.011362254619598389,...  \n",
       "57  [-0.010567406192421913, -0.01499401405453682, ...  \n",
       "66  [0.008739463053643703, -0.022288653999567032, ...  \n",
       "18  [0.004646248184144497, -0.015833109617233276, ...  "
      ]
     },
     "execution_count": 3,
     "metadata": {},
     "output_type": "execute_result"
    }
   ],
   "source": [
    "# load pickle file\n",
    "embedding_df = pd.read_pickle(\"data/embedded_activities.pkl\")\n",
    "embedding_df.sample(5)"
   ]
  },
  {
   "cell_type": "code",
   "execution_count": 4,
   "metadata": {},
   "outputs": [],
   "source": [
    "\n",
    "def get_embedding(text, model=\"text-embedding-ada-002\"):\n",
    "    text = text.replace(\"\\n\", \" \")\n",
    "    return client.embeddings.create(input=[text], model=model).data[0].embedding\n",
    "\n",
    "def find_k_nearest_neighbors(df, query_embedding, k=5):\n",
    "    # Compute cosine similarity between query embedding and all embeddings in the DataFrame\n",
    "    similarities = cosine_similarity([query_embedding], list(df['ada_embedding'].values))[0]\n",
    "\n",
    "    # Find indices of the top K most similar embeddings\n",
    "    top_indices = similarities.argsort()[-k:][::-1]\n",
    "\n",
    "    # Extract the sentences corresponding to the top indices\n",
    "    k_nearest_neighbors = df.iloc[top_indices]['text'].tolist()\n",
    "\n",
    "    return k_nearest_neighbors\n",
    "\n",
    "def get_top_search(question, n=5):\n",
    "    print(\"Question:\", question)\n",
    "    question_embedding = get_embedding(question)\n",
    "\n",
    "    k_nearest_neighbors = find_k_nearest_neighbors(embedding_df, question_embedding, k=n)\n",
    "    print(\"K Nearest Neighbors:\")\n",
    "    for neighbor in k_nearest_neighbors:\n",
    "        print(neighbor)"
   ]
  },
  {
   "cell_type": "code",
   "execution_count": 5,
   "metadata": {},
   "outputs": [
    {
     "name": "stdout",
     "output_type": "stream",
     "text": [
      "Question: Zoooomba\n",
      "K Nearest Neighbors:\n",
      "A1177 Aqua Zumba 9am Jurong Lake Gardens\n",
      "A1208 Zumba Lite 7am Bishan Junction 8\n",
      "A1129 Zumba Gold 9am Tampines Mall\n",
      "A1223 Zen Stretch 7am MacPherson Park\n",
      "A3324 Jogging 8am Everton Park\n",
      "A1165 Groove Dance 9am VivoCity Sky Park\n",
      "A1178 Dance Fitness Jam 8am AMK Hub\n",
      "A1173 Brazilian Dance 5pm Eunos Community Centre\n",
      "A1201 Morning Jog 6am East Coast Park\n",
      "A1205 Jazzercise 5pm Buona Vista Park\n"
     ]
    }
   ],
   "source": [
    "question = \"Zoooomba\"\n",
    "\n",
    "get_top_search(question, n=10)"
   ]
  },
  {
   "cell_type": "code",
   "execution_count": 6,
   "metadata": {},
   "outputs": [
    {
     "name": "stdout",
     "output_type": "stream",
     "text": [
      "Question: Cardio\n",
      "K Nearest Neighbors:\n",
      "A1182 Light Cardio 10am Pioneer Mall\n",
      "A1227 Cardio Sculpt 7pm Bedok Central\n",
      "A1155 Cardio Barre 8am Mount Faber Park\n",
      "A1136 Full Body Cardio 7am Singapore General Hospital\n",
      "A1200 Cardio Blitz 9am Tampines ActiveSG Gym\n",
      "A1184 Core & Cardio 6pm Punggol Settlement\n",
      "A1164 Cardio Dance Party 8am Sentosa Beach Station\n",
      "A1135 Dance Cardio 8am Pasir Ris CC\n",
      "A1196 High Energy Aerobics 8am Hillion Mall\n",
      "A1205 Jazzercise 5pm Buona Vista Park\n"
     ]
    }
   ],
   "source": [
    "question = \"Cardio\"\n",
    "\n",
    "get_top_search(question, n=10)"
   ]
  },
  {
   "cell_type": "code",
   "execution_count": 7,
   "metadata": {},
   "outputs": [
    {
     "name": "stdout",
     "output_type": "stream",
     "text": [
      "Question: East Coast\n",
      "K Nearest Neighbors:\n",
      "A1201 Morning Jog 6am East Coast Park\n",
      "A1134 HIIT Bootcamp 6am East Coast Park\n",
      "A1131 Tai Chi Basics 7am West Coast Park\n",
      "A1176 Stretch & Align 7pm Eastpoint Mall\n",
      "A1158 CrossFit Lite 6am  Downtown East D’Resort\n",
      "A1217 Energy Barre 6am River Valley\n",
      "A1145 Yin Yoga 10am Harbourfront Tower\n",
      "A1198 Street Dance 5pm Great World City\n",
      "A1219 Aqua Strength 10am Simei Eastpoint\n",
      "A1154 Line Dancing 11am Chinatown Point\n"
     ]
    }
   ],
   "source": [
    "question = \"East Coast\"\n",
    "\n",
    "get_top_search(question, n=10)\n"
   ]
  },
  {
   "cell_type": "code",
   "execution_count": 10,
   "metadata": {},
   "outputs": [
    {
     "name": "stdout",
     "output_type": "stream",
     "text": [
      "Question: Cardio in Toa Payoh\n",
      "K Nearest Neighbors:\n",
      "A1200 Cardio Blitz 9am Tampines ActiveSG Gym\n",
      "A1227 Cardio Sculpt 7pm Bedok Central\n",
      "A1184 Core & Cardio 6pm Punggol Settlement\n",
      "A1143 Gentle Stretching 9am Toa Payoh Central\n",
      "A1150 Chair Aerobics 10am Bukit Timah Shopping Centre\n",
      "A1164 Cardio Dance Party 8am Sentosa Beach Station\n",
      "A1190 Rhythm Aerobics 8am Clementi MRT Plaza\n",
      "A1212 Active Seniors Fitness 10am Punggol Plaza\n",
      "A1135 Dance Cardio 8am Pasir Ris CC\n",
      "A1136 Full Body Cardio 7am Singapore General Hospital\n"
     ]
    }
   ],
   "source": [
    "question = \"Cardio in Toa Payoh\"\n",
    "\n",
    "get_top_search(question, n=10)"
   ]
  },
  {
   "cell_type": "code",
   "execution_count": 11,
   "metadata": {},
   "outputs": [
    {
     "name": "stdout",
     "output_type": "stream",
     "text": [
      "Question: A1128\n",
      "K Nearest Neighbors:\n",
      "A1133 Barre Fusion 11am Clementi SMC\n",
      "A1178 Dance Fitness Jam 8am AMK Hub\n",
      "A1162 Chair Yoga 11am Compass One\n",
      "A1182 Light Cardio 10am Pioneer Mall\n",
      "A1196 High Energy Aerobics 8am Hillion Mall\n",
      "A1160 Body Toning 8am Woodlands Central\n",
      "A1154 Line Dancing 11am Chinatown Point\n",
      "A1192 Combat Training 6pm Sports Hub\n",
      "A1221 Dynamic Pilates 8am Anchorpoint Mall\n",
      "A1136 Full Body Cardio 7am Singapore General Hospital\n"
     ]
    }
   ],
   "source": [
    "question = \"A1128\"\n",
    "\n",
    "get_top_search(question, n=10)"
   ]
  },
  {
   "cell_type": "code",
   "execution_count": 13,
   "metadata": {},
   "outputs": [
    {
     "name": "stdout",
     "output_type": "stream",
     "text": [
      "Question: Light Exercises for Retirees in Toa Payoh\n",
      "K Nearest Neighbors:\n",
      "A1212 Active Seniors Fitness 10am Punggol Plaza\n",
      "A1143 Gentle Stretching 9am Toa Payoh Central\n",
      "A1150 Chair Aerobics 10am Bukit Timah Shopping Centre\n",
      "A1199 Gentle Pilates 7am Kallang ActiveSG Gym\n",
      "A1161 Mat Pilates 10am Holland Village\n",
      "A1191 Beginner Yoga 9am Boon Lay Park\n",
      "A1200 Cardio Blitz 9am Tampines ActiveSG Gym\n",
      "A1169 Total Body Workout 9am Ang Mo Kio Park\n",
      "A1136 Aerobics Basics 7pm Punggol Waterway Point\n",
      "A1171 Power Pilates 10am Paya Lebar Quarter\n",
      "A1190 Rhythm Aerobics 8am Clementi MRT Plaza\n",
      "A1193 Slow Flow Yoga 8am Yio Chu Kang Sports Centre\n",
      "A1140 Resistance Band Sculpt 8am Serangoon Gardens\n",
      "A1177 Aqua Zumba 9am Jurong Lake Gardens\n",
      "A1132 Aqua Aerobics 10am Yishun Safra\n",
      "A1149 Core & Balance 9am Choa Chu Kang Park\n",
      "A1159 Functional Stretching 7pm Bukit Panjang Plaza\n",
      "A1227 Cardio Sculpt 7pm Bedok Central\n",
      "A1129 Zumba Gold 9am Tampines Mall\n",
      "A1139 Functional Training 6pm Bedok Reservoir\n"
     ]
    }
   ],
   "source": [
    "question = \"Light Exercises for Retirees in Toa Payoh\"\n",
    "\n",
    "get_top_search(question, n=20)"
   ]
  }
 ],
 "metadata": {
  "kernelspec": {
   "display_name": "base",
   "language": "python",
   "name": "python3"
  },
  "language_info": {
   "codemirror_mode": {
    "name": "ipython",
    "version": 3
   },
   "file_extension": ".py",
   "mimetype": "text/x-python",
   "name": "python",
   "nbconvert_exporter": "python",
   "pygments_lexer": "ipython3",
   "version": "3.12.3"
  }
 },
 "nbformat": 4,
 "nbformat_minor": 2
}
